{
  "cells": [
    {
      "cell_type": "markdown",
      "metadata": {
        "id": "EzNZ8KRsp1YT"
      },
      "source": [
        "[![Open In Colab](https://colab.research.google.com/assets/colab-badge.svg)](https://colab.research.google.com/github/pinecone-io/examples/blob/master/learn/image-retrieval/clip-object-detection/zero-shot-object-detection-clip.ipynb) [![Open nbviewer](https://raw.githubusercontent.com/pinecone-io/examples/master/assets/nbviewer-shield.svg)](https://nbviewer.org/github/pinecone-io/examples/blob/master/learn/image-retrieval/clip-object-detection/zero-shot-object-detection-clip.ipynb)"
      ]
    },
    {
      "cell_type": "markdown",
      "metadata": {
        "id": "5XR6IFb0p1YX"
      },
      "source": [
        "# Zero Shot Object Localization and Detection with OpenAI's CLIP"
      ]
    },
    {
      "attachments": {},
      "cell_type": "markdown",
      "metadata": {},
      "source": [
        "\n",
        "The astonishing rise of multi-modal models has made the impossible possible across various domains and tasks. One of those is zero-shot object detection and localization.\n",
        "\n",
        "“Zero-shot” means applying a model without the need for fine-tuning. Meaning we take a multi-modal model and use it to detect images in one domain, then switch to another entirely different domain without the model seeing a single training example from the new domain."
      ]
    },
    {
      "cell_type": "code",
      "execution_count": 1,
      "metadata": {
        "colab": {
          "base_uri": "https://localhost:8080/"
        },
        "id": "OCibu8lvp1YX",
        "outputId": "3832a1f7-b637-400a-c3c2-b855230c8579"
      },
      "outputs": [
        {
          "name": "stdout",
          "output_type": "stream",
          "text": [
            "Looking in indexes: https://pypi.org/simple, https://us-python.pkg.dev/colab-wheels/public/simple/\n",
            "Collecting datasets\n",
            "  Downloading datasets-2.9.0-py3-none-any.whl (462 kB)\n",
            "\u001b[2K     \u001b[90m━━━━━━━━━━━━━━━━━━━━━━━━━━━━━━━━━━━━━━━\u001b[0m \u001b[32m462.8/462.8 KB\u001b[0m \u001b[31m3.5 MB/s\u001b[0m eta \u001b[36m0:00:00\u001b[0m\n",
            "\u001b[?25hRequirement already satisfied: torch in /usr/local/lib/python3.8/dist-packages (1.13.1+cu116)\n",
            "Collecting transformers\n",
            "  Downloading transformers-4.26.1-py3-none-any.whl (6.3 MB)\n",
            "\u001b[2K     \u001b[90m━━━━━━━━━━━━━━━━━━━━━━━━━━━━━━━━━━━━━━━━\u001b[0m \u001b[32m6.3/6.3 MB\u001b[0m \u001b[31m73.8 MB/s\u001b[0m eta \u001b[36m0:00:00\u001b[0m\n",
            "\u001b[?25hCollecting xxhash\n",
            "  Downloading xxhash-3.2.0-cp38-cp38-manylinux_2_17_x86_64.manylinux2014_x86_64.whl (213 kB)\n",
            "\u001b[2K     \u001b[90m━━━━━━━━━━━━━━━━━━━━━━━━━━━━━━━━━━━━━━━\u001b[0m \u001b[32m213.0/213.0 KB\u001b[0m \u001b[31m8.5 MB/s\u001b[0m eta \u001b[36m0:00:00\u001b[0m\n",
            "\u001b[?25hRequirement already satisfied: requests>=2.19.0 in /usr/local/lib/python3.8/dist-packages (from datasets) (2.25.1)\n",
            "Requirement already satisfied: dill<0.3.7 in /usr/local/lib/python3.8/dist-packages (from datasets) (0.3.6)\n",
            "Collecting multiprocess\n",
            "  Downloading multiprocess-0.70.14-py38-none-any.whl (132 kB)\n",
            "\u001b[2K     \u001b[90m━━━━━━━━━━━━━━━━━━━━━━━━━━━━━━━━━━━━━━━\u001b[0m \u001b[32m132.0/132.0 KB\u001b[0m \u001b[31m4.2 MB/s\u001b[0m eta \u001b[36m0:00:00\u001b[0m\n",
            "\u001b[?25hRequirement already satisfied: numpy>=1.17 in /usr/local/lib/python3.8/dist-packages (from datasets) (1.21.6)\n",
            "Requirement already satisfied: tqdm>=4.62.1 in /usr/local/lib/python3.8/dist-packages (from datasets) (4.64.1)\n",
            "Collecting responses<0.19\n",
            "  Downloading responses-0.18.0-py3-none-any.whl (38 kB)\n",
            "Requirement already satisfied: packaging in /usr/local/lib/python3.8/dist-packages (from datasets) (23.0)\n",
            "Requirement already satisfied: pyyaml>=5.1 in /usr/local/lib/python3.8/dist-packages (from datasets) (6.0)\n",
            "Collecting huggingface-hub<1.0.0,>=0.2.0\n",
            "  Downloading huggingface_hub-0.12.0-py3-none-any.whl (190 kB)\n",
            "\u001b[2K     \u001b[90m━━━━━━━━━━━━━━━━━━━━━━━━━━━━━━━━━━━━━━━\u001b[0m \u001b[32m190.3/190.3 KB\u001b[0m \u001b[31m6.2 MB/s\u001b[0m eta \u001b[36m0:00:00\u001b[0m\n",
            "\u001b[?25hRequirement already satisfied: aiohttp in /usr/local/lib/python3.8/dist-packages (from datasets) (3.8.3)\n",
            "Requirement already satisfied: pandas in /usr/local/lib/python3.8/dist-packages (from datasets) (1.3.5)\n",
            "Requirement already satisfied: pyarrow>=6.0.0 in /usr/local/lib/python3.8/dist-packages (from datasets) (9.0.0)\n",
            "Requirement already satisfied: fsspec[http]>=2021.11.1 in /usr/local/lib/python3.8/dist-packages (from datasets) (2023.1.0)\n",
            "Requirement already satisfied: typing-extensions in /usr/local/lib/python3.8/dist-packages (from torch) (4.4.0)\n",
            "Requirement already satisfied: filelock in /usr/local/lib/python3.8/dist-packages (from transformers) (3.9.0)\n",
            "Collecting tokenizers!=0.11.3,<0.14,>=0.11.1\n",
            "  Downloading tokenizers-0.13.2-cp38-cp38-manylinux_2_17_x86_64.manylinux2014_x86_64.whl (7.6 MB)\n",
            "\u001b[2K     \u001b[90m━━━━━━━━━━━━━━━━━━━━━━━━━━━━━━━━━━━━━━━━\u001b[0m \u001b[32m7.6/7.6 MB\u001b[0m \u001b[31m25.6 MB/s\u001b[0m eta \u001b[36m0:00:00\u001b[0m\n",
            "\u001b[?25hRequirement already satisfied: regex!=2019.12.17 in /usr/local/lib/python3.8/dist-packages (from transformers) (2022.6.2)\n",
            "Requirement already satisfied: frozenlist>=1.1.1 in /usr/local/lib/python3.8/dist-packages (from aiohttp->datasets) (1.3.3)\n",
            "Requirement already satisfied: multidict<7.0,>=4.5 in /usr/local/lib/python3.8/dist-packages (from aiohttp->datasets) (6.0.4)\n",
            "Requirement already satisfied: attrs>=17.3.0 in /usr/local/lib/python3.8/dist-packages (from aiohttp->datasets) (22.2.0)\n",
            "Requirement already satisfied: yarl<2.0,>=1.0 in /usr/local/lib/python3.8/dist-packages (from aiohttp->datasets) (1.8.2)\n",
            "Requirement already satisfied: charset-normalizer<3.0,>=2.0 in /usr/local/lib/python3.8/dist-packages (from aiohttp->datasets) (2.1.1)\n",
            "Requirement already satisfied: async-timeout<5.0,>=4.0.0a3 in /usr/local/lib/python3.8/dist-packages (from aiohttp->datasets) (4.0.2)\n",
            "Requirement already satisfied: aiosignal>=1.1.2 in /usr/local/lib/python3.8/dist-packages (from aiohttp->datasets) (1.3.1)\n",
            "Requirement already satisfied: urllib3<1.27,>=1.21.1 in /usr/local/lib/python3.8/dist-packages (from requests>=2.19.0->datasets) (1.24.3)\n",
            "Requirement already satisfied: chardet<5,>=3.0.2 in /usr/local/lib/python3.8/dist-packages (from requests>=2.19.0->datasets) (4.0.0)\n",
            "Requirement already satisfied: idna<3,>=2.5 in /usr/local/lib/python3.8/dist-packages (from requests>=2.19.0->datasets) (2.10)\n",
            "Requirement already satisfied: certifi>=2017.4.17 in /usr/local/lib/python3.8/dist-packages (from requests>=2.19.0->datasets) (2022.12.7)\n",
            "Collecting urllib3<1.27,>=1.21.1\n",
            "  Downloading urllib3-1.26.14-py2.py3-none-any.whl (140 kB)\n",
            "\u001b[2K     \u001b[90m━━━━━━━━━━━━━━━━━━━━━━━━━━━━━━━━━━━━━━━\u001b[0m \u001b[32m140.6/140.6 KB\u001b[0m \u001b[31m7.1 MB/s\u001b[0m eta \u001b[36m0:00:00\u001b[0m\n",
            "\u001b[?25hRequirement already satisfied: pytz>=2017.3 in /usr/local/lib/python3.8/dist-packages (from pandas->datasets) (2022.7.1)\n",
            "Requirement already satisfied: python-dateutil>=2.7.3 in /usr/local/lib/python3.8/dist-packages (from pandas->datasets) (2.8.2)\n",
            "Requirement already satisfied: six>=1.5 in /usr/local/lib/python3.8/dist-packages (from python-dateutil>=2.7.3->pandas->datasets) (1.15.0)\n",
            "Installing collected packages: tokenizers, xxhash, urllib3, multiprocess, responses, huggingface-hub, transformers, datasets\n",
            "  Attempting uninstall: urllib3\n",
            "    Found existing installation: urllib3 1.24.3\n",
            "    Uninstalling urllib3-1.24.3:\n",
            "      Successfully uninstalled urllib3-1.24.3\n",
            "Successfully installed datasets-2.9.0 huggingface-hub-0.12.0 multiprocess-0.70.14 responses-0.18.0 tokenizers-0.13.2 transformers-4.26.1 urllib3-1.26.14 xxhash-3.2.0\n"
          ]
        }
      ],
      "source": [
        "!pip install datasets torch transformers"
      ]
    },
    {
      "cell_type": "markdown",
      "metadata": {
        "id": "DU2F47qHp1YZ"
      },
      "source": [
        "### Download the dataset"
      ]
    },
    {
      "cell_type": "markdown",
      "metadata": {
        "id": "vnAiD07cp1YZ"
      },
      "source": [
        "Let's start by downloading the dataset. We are using the <a ref= https://huggingface.co/datasets/jamescalam/image-text-demo> image-text-demo </a> from HuggingFace."
      ]
    },
    {
      "cell_type": "code",
      "execution_count": 2,
      "metadata": {
        "colab": {
          "base_uri": "https://localhost:8080/",
          "height": 240,
          "referenced_widgets": [
            "231af02c192c446296e45e110da70f66",
            "d243a922b710489caaa5cdbfc0cab434",
            "4759ad0ced1a40fc9c781a7b92ec8449",
            "5fe5fb762ca1474999f267fcbf00d22d",
            "58b780e526954f318d14e9fae55c900b",
            "f48c7c35fdb24336898b371c2ea90078",
            "722260b5b3cb45059ca8b9e3229283f9",
            "3e8cb75c175245fe80b00a54d54c2748",
            "60d42237b9684efcab6f4499b1795076",
            "e738ab7b57244a23ac604ad5aff9dfdf",
            "78149353b6d74ff9ac95a77ca640889d",
            "22dc5352fa1d4c509e230cd988626eff",
            "323589f2e6444b75a907b055ccc4963c",
            "663853885c39414e99a9514ec6dae58a",
            "6e2058a5840f4bb787cd2465c53480a2",
            "7df17e049f8444b1834855dca9033f89",
            "d56ed8a6ef404230bd7d19359b14d0ae",
            "2e3354072f304459afedca2b4d6114c9",
            "a7b486bed0a34b6b922a9bc892b0ae0b",
            "71a733e94fe941ea9f71fffed5057b19",
            "9e4362cade084e23b3774c66034b7dcf",
            "755452a63d3148ee981a0e33d9cf4df2",
            "53f9fea1761649c3afa570065e0378ac",
            "36df7aa4785f4e43b7a1c2c292824b9e",
            "aed1b75795c04646832bf8e912424e66",
            "efc015fefe5449829b1d3291102f2280",
            "3d0dd71bae9a4a35ab160cb26e9d0846",
            "6f0226d9d005423487fbc0c65d2d9eba",
            "f3b2dbf647ad41b88188ccac892abfde",
            "888e96292f2b4465abdb4ffbfecde543",
            "ad69463519d4409fa6ef507b8e7f3dfb",
            "c8f4918a5d4c4024994624c4a4b8dd0d",
            "0e7d0352df3f4b6095e21a97cd6b972c"
          ]
        },
        "id": "Hon8uAfZp1YZ",
        "outputId": "e68e1a9a-d76d-4459-d21c-c0f4d66911b5"
      },
      "outputs": [
        {
          "data": {
            "application/vnd.jupyter.widget-view+json": {
              "model_id": "231af02c192c446296e45e110da70f66",
              "version_major": 2,
              "version_minor": 0
            },
            "text/plain": [
              "Downloading builder script:   0%|          | 0.00/1.72k [00:00<?, ?B/s]"
            ]
          },
          "metadata": {},
          "output_type": "display_data"
        },
        {
          "name": "stdout",
          "output_type": "stream",
          "text": [
            "Downloading and preparing dataset image-text-demo/default to /root/.cache/huggingface/datasets/jamescalam___image-text-demo/default/0.0.0/83e33802f1af183872ab59b5bf8b7ae25968f4e294f8529fdae035f54b9a5abc...\n"
          ]
        },
        {
          "data": {
            "application/vnd.jupyter.widget-view+json": {
              "model_id": "22dc5352fa1d4c509e230cd988626eff",
              "version_major": 2,
              "version_minor": 0
            },
            "text/plain": [
              "Downloading data:   0%|          | 0.00/37.8M [00:00<?, ?B/s]"
            ]
          },
          "metadata": {},
          "output_type": "display_data"
        },
        {
          "data": {
            "application/vnd.jupyter.widget-view+json": {
              "model_id": "53f9fea1761649c3afa570065e0378ac",
              "version_major": 2,
              "version_minor": 0
            },
            "text/plain": [
              "Generating train split: 0 examples [00:00, ? examples/s]"
            ]
          },
          "metadata": {},
          "output_type": "display_data"
        },
        {
          "name": "stdout",
          "output_type": "stream",
          "text": [
            "Dataset image-text-demo downloaded and prepared to /root/.cache/huggingface/datasets/jamescalam___image-text-demo/default/0.0.0/83e33802f1af183872ab59b5bf8b7ae25968f4e294f8529fdae035f54b9a5abc. Subsequent calls will reuse this data.\n"
          ]
        },
        {
          "data": {
            "text/plain": [
              "Dataset({\n",
              "    features: ['text', 'image'],\n",
              "    num_rows: 21\n",
              "})"
            ]
          },
          "execution_count": 2,
          "metadata": {},
          "output_type": "execute_result"
        }
      ],
      "source": [
        "from datasets import load_dataset #pip install datasets\n",
        "\n",
        "data = load_dataset(\n",
        "    \"jamescalam/image-text-demo\",\n",
        "    split=\"train\",\n",
        "    revision=\"180fdae\"\n",
        ")\n",
        "data"
      ]
    },
    {
      "cell_type": "markdown",
      "metadata": {
        "id": "uxdw9Anfp1Ya"
      },
      "source": [
        "The dataset includes 21 labelled images. We chose the 3rd image in the dataset, *butterfly landing on the nose of a cat*, to perform our object localization task. Let's have a look at it."
      ]
    },
    {
      "cell_type": "code",
      "execution_count": 3,
      "metadata": {
        "id": "rOYwTuUMp1Ya"
      },
      "outputs": [],
      "source": [
        "# image\n",
        "data[2]['image']"
      ]
    },
    {
      "cell_type": "markdown",
      "metadata": {
        "id": "Cf8XSoKKp1Ya"
      },
      "source": [
        "### Break Image into Equal Patches"
      ]
    },
    {
      "cell_type": "markdown",
      "metadata": {
        "id": "RHUmtKRNp1Yb"
      },
      "source": [
        "The first step consists of transforming our image into a tensor."
      ]
    },
    {
      "cell_type": "code",
      "execution_count": null,
      "metadata": {
        "id": "vFEmDXWGp1Yb"
      },
      "outputs": [],
      "source": [
        "from torchvision import transforms\n",
        "\n",
        "# transform the image into tensor\n",
        "transform = transforms.ToTensor()\n",
        "\n",
        "img = transform(data[2][\"image\"])\n",
        "img.data.shape"
      ]
    },
    {
      "cell_type": "markdown",
      "metadata": {
        "id": "xN4qx0N_p1Yb"
      },
      "source": [
        "The generated tensor has $3$ color channels, a height of $5184$, and width of $3456$ ($5184x3456 pixels$). We now want to add an extra dimension, which will be needed for later calculations. We can use the `unfold` function."
      ]
    },
    {
      "cell_type": "code",
      "execution_count": null,
      "metadata": {
        "id": "3MHZq3_kp1Yc"
      },
      "outputs": [],
      "source": [
        "# add extra dimension for later calculations\n",
        "patches = img.data.unfold(0,3,3)\n",
        "patches.shape"
      ]
    },
    {
      "cell_type": "markdown",
      "metadata": {
        "id": "l1o1B1Z3p1Yc"
      },
      "source": [
        "We can now break the image into patches. More precisely, we want to break the image into $256x256$ pixels patches. We start by breaking it horizontally, meaning that we will end up with an image composed of $20$ patches of $256$ pixels in height, and $1$ patch of $3456$ pixels in width."
      ]
    },
    {
      "cell_type": "code",
      "execution_count": null,
      "metadata": {
        "id": "eRbfvt0Vp1Yc"
      },
      "outputs": [],
      "source": [
        "# break the image into patches (in height dimension)\n",
        "patch = 256\n",
        "\n",
        "patches = patches.unfold(1, patch, patch)\n",
        "patches.shape"
      ]
    },
    {
      "cell_type": "markdown",
      "metadata": {
        "id": "MJIJmeytp1Yc"
      },
      "source": [
        "We can visualize it below:"
      ]
    },
    {
      "cell_type": "code",
      "execution_count": null,
      "metadata": {
        "id": "iOwWtgmXp1Yd"
      },
      "outputs": [],
      "source": [
        "import matplotlib.pyplot as plt\n",
        "\n",
        "X = patches.shape[1]\n",
        "\n",
        "fig, ax = plt.subplots(X, 1, figsize=(40, 26))\n",
        "# loop through each strip and display\n",
        "for x in range(X):\n",
        "    ax[x].imshow(patches[0, x].permute(2, 0, 1))\n",
        "    ax[x].axis(\"off\")\n",
        "fig.tight_layout()\n",
        "plt.show()"
      ]
    },
    {
      "cell_type": "markdown",
      "metadata": {
        "id": "5fJseJSQp1Yd"
      },
      "source": [
        "We can now use the `unfold` function again to break the image vertically. After this operation, we will get an image composed of $20x13$ patches of $256x256$ pixels. "
      ]
    },
    {
      "cell_type": "code",
      "execution_count": null,
      "metadata": {
        "id": "vz3kJfr-p1Yd"
      },
      "outputs": [],
      "source": [
        "# break the image into patches (in width dimension)\n",
        "patches = patches.unfold(2, patch, patch)\n",
        "patches.shape"
      ]
    },
    {
      "cell_type": "markdown",
      "metadata": {
        "id": "w6hBGGOWp1Yd"
      },
      "source": [
        "We can visualize it below:"
      ]
    },
    {
      "cell_type": "code",
      "execution_count": null,
      "metadata": {
        "id": "OUXPGikRp1Ye"
      },
      "outputs": [],
      "source": [
        "import matplotlib.pyplot as plt\n",
        "\n",
        "X = patches.shape[1]\n",
        "Y = patches.shape[2]\n",
        "\n",
        "fig, ax = plt.subplots(X, Y, figsize=(Y*2, X*2))\n",
        "for x in range(X):\n",
        "    for y in range(Y):\n",
        "        ax[x, y].imshow(patches[0, x, y].permute(1, 2, 0))\n",
        "        ax[x, y].axis(\"off\")\n",
        "fig.tight_layout()\n",
        "plt.show()"
      ]
    },
    {
      "cell_type": "markdown",
      "metadata": {
        "id": "YnAtpM__p1Ye"
      },
      "source": [
        "### Process Patches using CLIP"
      ]
    },
    {
      "cell_type": "markdown",
      "metadata": {
        "id": "PdQPFBj_p1Ye"
      },
      "source": [
        "The first step is done. We are now almost ready to process those patches using CLIP. Before doing it, we might want to work through these patches by grouping them into a 6x6 window.\n",
        "\n",
        "<center><div> <img src=\"https://raw.githubusercontent.com/pinecone-io/examples/master/learn/image-retrieval/clip-object-detection/assets/window.png\" alt=\"Drawing\" style=\"width:300px;\"/></div> </center> "
      ]
    },
    {
      "cell_type": "markdown",
      "metadata": {
        "id": "ifw841gqp1Ye"
      },
      "source": [
        "Let's visualize the first patch."
      ]
    },
    {
      "cell_type": "code",
      "execution_count": null,
      "metadata": {
        "id": "1jhSuARQp1Yf"
      },
      "outputs": [],
      "source": [
        "import torch\n",
        "\n",
        "# set the 6x6 window\n",
        "window = 6\n",
        "\n",
        "big_patch = torch.zeros(patch*window, patch*window, 3)\n",
        "patch_batch = patches[0][:window][:window]\n",
        "\n",
        "# visualize patch\n",
        "for y in range(window):\n",
        "    for x in range(window):\n",
        "        big_patch[y*patch:(y+1)*patch, x*patch:(x+1)*patch, :] = patch_batch[y, x].permute(1, 2, 0)\n",
        "\n",
        "plt.imshow(big_patch)\n",
        "plt.show()"
      ]
    },
    {
      "cell_type": "code",
      "execution_count": null,
      "metadata": {
        "id": "G2F-uuRPp1Yf"
      },
      "outputs": [],
      "source": [
        "patches.shape"
      ]
    },
    {
      "cell_type": "markdown",
      "metadata": {
        "id": "yfLMFbc2p1Yg"
      },
      "source": [
        "This is now a patch consisting of 6x6 smaller patches.\n",
        "\n",
        "We can repeat this process by \"sliding\" the 6x6 window over the full image. We set the stride, i.e., the number of steps the window moves, to $1$."
      ]
    },
    {
      "cell_type": "code",
      "execution_count": null,
      "metadata": {
        "id": "wus_xzPIp1Yg"
      },
      "outputs": [],
      "source": [
        "window = 6\n",
        "stride = 1\n",
        "\n",
        "# window slides from top to bottom\n",
        "for Y in range(0, patches.shape[1]-window+1, stride):\n",
        "    # window slides from left to right\n",
        "    for X in range(0, patches.shape[2]-window+1, stride):\n",
        "        # initialize an empty big_patch array\n",
        "        big_patch = torch.zeros(patch*window, patch*window, 3)\n",
        "\n",
        "        # this gets the current batch of patches that will make big_batch\n",
        "        patch_batch = patches[0, Y:Y+window, X:X+window]\n",
        "        # loop through each patch in current batch\n",
        "        for y in range(patch_batch.shape[1]):\n",
        "            for x in range(patch_batch.shape[0]):\n",
        "                # add patch to big_patch\n",
        "                big_patch[\n",
        "                    y*patch:(y+1)*patch, x*patch:(x+1)*patch, :\n",
        "                ] = patch_batch[y, x].permute(1, 2, 0)\n",
        "        # display current big_patch\n",
        "        plt.imshow(big_patch)\n",
        "        plt.show()"
      ]
    },
    {
      "cell_type": "markdown",
      "metadata": {
        "id": "KuHU5QfWp1Yg"
      },
      "source": [
        "We need now to process these through CLIP and calculate the similarity between the patch and a prompt. Our first prompt will be `\"a fluffy cat\"`. Let's first define our processor and model CLIP and move it to device, if possible. "
      ]
    },
    {
      "cell_type": "code",
      "execution_count": null,
      "metadata": {
        "id": "YRf01ssUp1Yg"
      },
      "outputs": [],
      "source": [
        "from transformers import CLIPProcessor, CLIPModel\n",
        "import torch\n",
        "\n",
        "# define processor and model\n",
        "model_id = \"openai/clip-vit-base-patch32\"\n",
        "\n",
        "processor = CLIPProcessor.from_pretrained(model_id)\n",
        "model = CLIPModel.from_pretrained(model_id)\n",
        "\n",
        "# move model to device if possible\n",
        "device = 'cuda' if torch.cuda.is_available() else 'cpu'\n",
        "\n",
        "model.to(device)\n",
        "print(device)"
      ]
    },
    {
      "cell_type": "markdown",
      "metadata": {
        "id": "xdYecME6p1Yg"
      },
      "source": [
        "Now, we can add a step to the previous operation, i.e., we calculate similarity scores for each patch (`scores`) and the number of time the window slides over each patch (`runs`). To do that, we are trasmitting to the CLIP model the image, and the prompt, which is \"a fluffy cat\"."
      ]
    },
    {
      "cell_type": "code",
      "execution_count": null,
      "metadata": {
        "id": "e5GFAZQNp1Yg"
      },
      "outputs": [],
      "source": [
        "window = 6\n",
        "stride = 1\n",
        "\n",
        "scores = torch.zeros(patches.shape[1], patches.shape[2])\n",
        "runs = torch.ones(patches.shape[1], patches.shape[2])\n",
        "\n",
        "for Y in range(0, patches.shape[1]-window+1, stride):\n",
        "    for X in range(0, patches.shape[2]-window+1, stride):\n",
        "        big_patch = torch.zeros(patch*window, patch*window, 3)\n",
        "        patch_batch = patches[0, Y:Y+window, X:X+window]\n",
        "        for y in range(window):\n",
        "            for x in range(window):\n",
        "                big_patch[\n",
        "                    y*patch:(y+1)*patch, x*patch:(x+1)*patch, :\n",
        "                ] = patch_batch[y, x].permute(1, 2, 0)\n",
        "        # we preprocess the image and class label with the CLIP processor\n",
        "        inputs = processor(\n",
        "            images=big_patch,  # big patch image sent to CLIP\n",
        "            return_tensors=\"pt\",  # tell CLIP to return pytorch tensor\n",
        "            text=\"a fluffy cat\",  # class label sent to CLIP\n",
        "            padding=True\n",
        "        ).to(device) # move to device if possible\n",
        "\n",
        "        # calculate and retrieve similarity score\n",
        "        score = model(**inputs).logits_per_image.item()\n",
        "        # sum up similarity scores from current and previous big patches\n",
        "        # that were calculated for patches within the current window\n",
        "        scores[Y:Y+window, X:X+window] += score\n",
        "        # calculate the number of runs on each patch within the current window\n",
        "        runs[Y:Y+window, X:X+window] += 1"
      ]
    },
    {
      "cell_type": "markdown",
      "metadata": {
        "id": "yDYstv0gp1Yh"
      },
      "source": [
        "We then want to divide the total score (`scores`) by the number of time the window slided over the patch (`runs`) to get an average score for each patch."
      ]
    },
    {
      "cell_type": "code",
      "execution_count": null,
      "metadata": {
        "id": "HsAu-vogp1Yh"
      },
      "outputs": [],
      "source": [
        "import numpy as np \n",
        "\n",
        "# average score for each patch\n",
        "scores /= runs"
      ]
    },
    {
      "cell_type": "markdown",
      "metadata": {
        "id": "BFu8VQxcp1Yh"
      },
      "source": [
        "The initial visual is not very useful..."
      ]
    },
    {
      "cell_type": "code",
      "execution_count": null,
      "metadata": {
        "id": "l6xLpLCIp1Yh"
      },
      "outputs": [],
      "source": [
        "# transform the patches tensor \n",
        "adj_patches = patches.squeeze(0).permute(3, 4, 2, 0, 1)\n",
        "# normalize scores\n",
        "scores = (\n",
        "    scores - scores.min()) / (scores.max() - scores.min()\n",
        ")\n",
        "# multiply patches by scores\n",
        "adj_patches = adj_patches * scores\n",
        "# rotate patches to visualize\n",
        "adj_patches = adj_patches.permute(3, 4, 2, 0, 1)\n",
        "\n",
        "Y = adj_patches.shape[0]\n",
        "X = adj_patches.shape[1]\n",
        "\n",
        "fig, ax = plt.subplots(Y, X, figsize=(X*.5, Y*.5))\n",
        "for y in range(Y):\n",
        "    for x in range(X):\n",
        "        ax[y, x].imshow(adj_patches[y, x].permute(1, 2, 0))\n",
        "        ax[y, x].axis(\"off\")\n",
        "        ax[y, x].set_aspect('equal')\n",
        "plt.subplots_adjust(wspace=0, hspace=0)\n",
        "plt.show()"
      ]
    },
    {
      "cell_type": "markdown",
      "metadata": {
        "id": "fkYFrz2Bp1Yh"
      },
      "source": [
        "The resulting tensor is characterized by a smooth gradient of scores and little-to-no impact from the scores on our visual. That is why (1) we are going to clip the score's interval edges for each patch so that they are around the average score, and (2) normalize scores for each patch. \n",
        "\n",
        "Using the `numpy.clip()` function, we can set all the scores below the average score equal to $0$ while keeping those higher than the average score as they are.\n",
        "\n",
        "We are running the same operation 3 times as it seems to give us better results."
      ]
    },
    {
      "cell_type": "code",
      "execution_count": null,
      "metadata": {
        "id": "W9VoqzqNp1Yh"
      },
      "outputs": [],
      "source": [
        "# clip the scores' interval edges\n",
        "for _ in range(1):\n",
        "    scores = np.clip(scores-scores.mean(), 0, np.inf)\n",
        "\n",
        "scores"
      ]
    },
    {
      "cell_type": "markdown",
      "metadata": {
        "id": "nnieMR-hp1Yi"
      },
      "source": [
        "After, we normalize the scores using the min-max normalization. For every tensor, the minimum value is transformed into a 0, the maximum value into a 1, and every other value into a decimal between 0 and 1."
      ]
    },
    {
      "cell_type": "code",
      "execution_count": null,
      "metadata": {
        "id": "ansC2qK4p1Yi"
      },
      "outputs": [],
      "source": [
        "# normalize scores\n",
        "scores = (\n",
        "    scores - scores.min()) / (scores.max() - scores.min()\n",
        ")\n",
        "scores"
      ]
    },
    {
      "cell_type": "markdown",
      "metadata": {
        "id": "eBxtm9lXp1Yi"
      },
      "source": [
        "### Visualize Results"
      ]
    },
    {
      "cell_type": "markdown",
      "metadata": {
        "id": "QqsYMplap1Yi"
      },
      "source": [
        "These scores are telling us if a given patch contains \"a fluffy cat\" or not. The higher the score, the more the probability that the cat is localized in that patch. \n",
        "\n",
        "We now want to visualize those scores, i.e., the localized object, on the original image. Scores equal to zero will be represented by black patches, so that the localized object can be clearly seen.\n",
        "\n",
        "To do that, we can multiply our scores by the patches. This requires that scores and patches have the same shape."
      ]
    },
    {
      "cell_type": "code",
      "execution_count": null,
      "metadata": {
        "id": "srcSNUcup1Yi"
      },
      "outputs": [],
      "source": [
        "scores.shape, patches.shape"
      ]
    },
    {
      "cell_type": "markdown",
      "metadata": {
        "id": "YTELvFrep1Yi"
      },
      "source": [
        "Given they do not have the same shape, we can transform the patches shape using `squeeze` and `permute`. Squeeze reduce the dimensionality, while permute rotates the tensor."
      ]
    },
    {
      "cell_type": "code",
      "execution_count": null,
      "metadata": {
        "id": "eJ4010Nap1Yi"
      },
      "outputs": [],
      "source": [
        "# transform the patches tensor \n",
        "adj_patches = patches.squeeze(0).permute(3, 4, 2, 0, 1)\n",
        "adj_patches.shape"
      ]
    },
    {
      "cell_type": "markdown",
      "metadata": {
        "id": "jwx7GbOVp1Yj"
      },
      "source": [
        "We can now multiply patches to scores."
      ]
    },
    {
      "cell_type": "code",
      "execution_count": null,
      "metadata": {
        "id": "6Yc9Gqztp1Yj"
      },
      "outputs": [],
      "source": [
        "# multiply patches by scores\n",
        "adj_patches = adj_patches * scores"
      ]
    },
    {
      "cell_type": "markdown",
      "metadata": {
        "id": "I_rooWvIp1Yj"
      },
      "source": [
        "Before plotting the localized object, we can rotate the patch tensor again to make our life easier ahead. "
      ]
    },
    {
      "cell_type": "code",
      "execution_count": null,
      "metadata": {
        "id": "iXf_kF3Jp1Yj"
      },
      "outputs": [],
      "source": [
        "# rotate patches to visualize\n",
        "adj_patches = adj_patches.permute(3, 4, 2, 0, 1)\n",
        "adj_patches.shape"
      ]
    },
    {
      "cell_type": "markdown",
      "metadata": {
        "id": "AfJXIBxFp1Yj"
      },
      "source": [
        "We can now visualize the localized object. We are expecting to visualize the cat only."
      ]
    },
    {
      "cell_type": "code",
      "execution_count": null,
      "metadata": {
        "id": "6wf3SOgXp1Yj"
      },
      "outputs": [],
      "source": [
        "Y = adj_patches.shape[0]\n",
        "X = adj_patches.shape[1]\n",
        "\n",
        "fig, ax = plt.subplots(Y, X, figsize=(X*.5, Y*.5))\n",
        "for y in range(Y):\n",
        "    for x in range(X):\n",
        "        ax[y, x].imshow(adj_patches[y, x].permute(1, 2, 0))\n",
        "        ax[y, x].axis(\"off\")\n",
        "        ax[y, x].set_aspect('equal')\n",
        "plt.subplots_adjust(wspace=0, hspace=0)\n",
        "plt.show()"
      ]
    },
    {
      "cell_type": "markdown",
      "metadata": {
        "id": "2JM0to_5p1Yj"
      },
      "source": [
        "It worked pretty well! \n",
        "\n",
        "Now let's do the same for butterfly... in this case, the text trasmitted to the CLIP model will be \"a butterfly\"."
      ]
    },
    {
      "cell_type": "code",
      "execution_count": null,
      "metadata": {
        "id": "G7wf8L5sp1Yj"
      },
      "outputs": [],
      "source": [
        "window = 6\n",
        "stride = 1\n",
        "\n",
        "scores = torch.zeros(patches.shape[1], patches.shape[2])\n",
        "runs = torch.ones(patches.shape[1], patches.shape[2])\n",
        "\n",
        "for Y in range(0, patches.shape[1]-window, stride):\n",
        "    for X in range(0, patches.shape[2]-window, stride):\n",
        "        big_patch = torch.zeros(patch*window, patch*window, 3)\n",
        "        patch_batch = patches[0, Y:Y+window, X:X+window]\n",
        "        for y in range(window):\n",
        "            for x in range(window):\n",
        "                big_patch[y*patch:(y+1)*patch, x*patch:(x+1)*patch, :] = patch_batch[y, x].permute(1, 2, 0)\n",
        "        inputs = processor(\n",
        "            images=big_patch,\n",
        "            return_tensors=\"pt\",\n",
        "            text=\"a butterfly\",\n",
        "            padding=True\n",
        "        ).to(device)\n",
        "        score = model(**inputs).logits_per_image.item()\n",
        "        scores[Y:Y+window, X:X+window] += score\n",
        "        runs[Y:Y+window, X:X+window] += 1"
      ]
    },
    {
      "cell_type": "code",
      "execution_count": null,
      "metadata": {
        "id": "357E8e3Fp1Yk"
      },
      "outputs": [],
      "source": [
        "scores /= runs\n",
        "for _ in range(3):\n",
        "    scores = np.clip(scores-scores.mean(), 0, np.inf)\n",
        "# normalize scores\n",
        "scores = (scores - scores.min()) / (scores.max() - scores.min())"
      ]
    },
    {
      "cell_type": "code",
      "execution_count": null,
      "metadata": {
        "id": "D_UbQ7wDp1Yl"
      },
      "outputs": [],
      "source": [
        "# adjust patches\n",
        "adj_patches = patches.squeeze(0).permute(3, 4, 2, 0, 1) * scores\n",
        "adj_patches = adj_patches.permute(3, 4, 2, 0, 1)"
      ]
    },
    {
      "cell_type": "code",
      "execution_count": null,
      "metadata": {
        "id": "HSBuxI4lp1Yl"
      },
      "outputs": [],
      "source": [
        "Y = adj_patches.shape[0]\n",
        "X = adj_patches.shape[1]\n",
        "\n",
        "fig, ax = plt.subplots(Y, X, figsize=(X*.5, Y*.5))\n",
        "for y in range(Y):\n",
        "    for x in range(X):\n",
        "        ax[y, x].imshow(adj_patches[y, x].permute(1, 2, 0))\n",
        "        ax[y, x].axis(\"off\")\n",
        "        ax[y, x].set_aspect('equal')\n",
        "plt.subplots_adjust(wspace=0, hspace=0)\n",
        "plt.show()"
      ]
    },
    {
      "cell_type": "markdown",
      "metadata": {
        "id": "_UQj4--up1Yl"
      },
      "source": [
        "## CLIP for Object Detection\n",
        "\n",
        "Localization is one step towards object detection, where we might expect to detect multiple objects.\n",
        "\n",
        "We can extend our current localization code quite easily to achieve this, we just add an extra layer of logic. But, before we do anything, we need to rethink our localization visual — this would be hard to represent when displaying two or more objects.\n",
        "\n",
        "The typical approach to this is to create a \"bounding box\"."
      ]
    },
    {
      "cell_type": "markdown",
      "metadata": {
        "id": "WYT7iyHAp1Ym"
      },
      "source": [
        "The scores we are using are from the last run, with which we localized the butterly. Therefore, we are going to build the a bounding box around the butterfly first. We want the bounding box to focus as much as possible on the butterly only, nothing else.\n",
        "\n",
        "Scores higher than $0.5$ seem to give us a more precise bounding box. We have then defined 'detection', which gives us *True* when the score is higher than $0.5$ (i.e.,non-zero positions), and *False* otherwise. "
      ]
    },
    {
      "cell_type": "code",
      "execution_count": null,
      "metadata": {
        "id": "5cYfCRE7p1Ym"
      },
      "outputs": [],
      "source": [
        "# scores higher than 0.5\n",
        "detection = scores > 0.5"
      ]
    },
    {
      "cell_type": "markdown",
      "metadata": {
        "id": "Zxmi3HVEp1Ym"
      },
      "source": [
        "We can now detect the non-zero *positions* with the `np.nonzero` function.  These represent the co-ordinates of our patches with scores $>0.5$. "
      ]
    },
    {
      "cell_type": "code",
      "execution_count": null,
      "metadata": {
        "id": "e3u7omq1p1Ym"
      },
      "outputs": [],
      "source": [
        "# non-zero positions\n",
        "np.nonzero(detection)"
      ]
    },
    {
      "cell_type": "markdown",
      "metadata": {
        "id": "Cx0P87Gdp1Ym"
      },
      "source": [
        "The first column represents non-zero row positions, while the second column non-zero column positions. We can visualize the above co-ordinates as follows:\n",
        "\n",
        "\n",
        "<center><div> <img src=\"https://raw.githubusercontent.com/pinecone-io/examples/master/learn/image-retrieval/clip-object-detection/assets/detection-coordinates.png\" alt=\"Drawing\" style=\"width:300px;\"/></div> </center> \n",
        "<center><small>Co-ordinates of patches with similarity score > 0.5.</small></center>"
      ]
    },
    {
      "cell_type": "markdown",
      "metadata": {
        "id": "M52bqhRip1Ym"
      },
      "source": [
        "The bounding box we want to design, will be around the area of interest.\n",
        "<center><div> <img src=\"https://raw.githubusercontent.com/pinecone-io/examples/master/learn/image-retrieval/clip-object-detection/assets/bounding-box.png\" alt=\"Drawing\" style=\"width:300px;\"/></div> </center> \n",
        "<center><small>Bounding box.</small></center>"
      ]
    },
    {
      "cell_type": "markdown",
      "metadata": {
        "id": "6t4iRdlpp1Ym"
      },
      "source": [
        "We can build it by calculating its corners, which correspond to the minimum and maximum $x$ and $y$ co-ordinates, i.e., $(x_{min}, y_{min})$, $(x_{max}, y_{min})$, $(x_{min}, y_{max})$, and $(x_{max}, y_{max})$.\n",
        "\n",
        "<center><div> <img src=\"https://raw.githubusercontent.com/pinecone-io/examples/master/learn/image-retrieval/clip-object-detection/assets/bounding-coordinates.png\" alt=\"Drawing\" style=\"width:300px;\"/></div> </center> \n",
        "<center><small>Bounding box corners' co-ordinates.</small></center>"
      ]
    },
    {
      "cell_type": "code",
      "execution_count": null,
      "metadata": {
        "id": "AzOl5tsip1Yn"
      },
      "outputs": [],
      "source": [
        "y_min, y_max = (\n",
        "    np.nonzero(detection)[:,0].min().item(),\n",
        "    np.nonzero(detection)[:,0].max().item()+1\n",
        ")\n",
        "y_min, y_max"
      ]
    },
    {
      "cell_type": "code",
      "execution_count": null,
      "metadata": {
        "id": "XrlhbO6tp1Yn"
      },
      "outputs": [],
      "source": [
        "x_min, x_max = (\n",
        "    np.nonzero(detection)[:,1].min().item(),\n",
        "    np.nonzero(detection)[:,1].max().item()+1\n",
        ")\n",
        "x_min, x_max"
      ]
    },
    {
      "cell_type": "markdown",
      "metadata": {
        "id": "3y3jkX72p1Yn"
      },
      "source": [
        "These give us the bounding box corner co-ordinates based on patches rather than pixel values. To get the pixel co-ordinates we need to multiply by the `patch` size."
      ]
    },
    {
      "cell_type": "code",
      "execution_count": null,
      "metadata": {
        "id": "evSceRFap1Yn"
      },
      "outputs": [],
      "source": [
        "y_min *= patch\n",
        "y_max *= patch\n",
        "x_min *= patch\n",
        "x_max *= patch\n",
        "x_min, y_min"
      ]
    },
    {
      "cell_type": "markdown",
      "metadata": {
        "id": "xHGr4HFfp1Yn"
      },
      "source": [
        "We use `(y_max - y_min)` and `(x_max - x_min)` to calculate the height and width of the bounding box respectively...\n",
        "\n",
        "<center><div> <img src=\"https://raw.githubusercontent.com/pinecone-io/examples/master/learn/image-retrieval/clip-object-detection/assets/box-height-width.png\" alt=\"Drawing\" style=\"width:300px;\"/></div> </center> \n",
        "<center><small>Height and width calculations.</small></center>\n"
      ]
    },
    {
      "cell_type": "code",
      "execution_count": null,
      "metadata": {
        "id": "IUZ2g2aJp1Yn"
      },
      "outputs": [],
      "source": [
        "height = y_max - y_min\n",
        "width = x_max - x_min\n",
        "\n",
        "height, width"
      ]
    },
    {
      "cell_type": "markdown",
      "metadata": {
        "id": "ZO3X_UxNp1Yn"
      },
      "source": [
        "Given our patches are $256x256$ pixels, we obtain a total height and width of $256*8=2048$ and $256*4=1024$ pixels, respectively. "
      ]
    },
    {
      "cell_type": "markdown",
      "metadata": {
        "id": "1oE2kSECp1Yn"
      },
      "source": [
        "We should be now be able to visualize the bounding box on our image. We are going to use 'matplotlib'. This need the image's color channel to be as last in the image's shape."
      ]
    },
    {
      "cell_type": "code",
      "execution_count": null,
      "metadata": {
        "id": "0o5MPbNlp1Yn"
      },
      "outputs": [],
      "source": [
        "# image shape\n",
        "img.data.numpy().shape"
      ]
    },
    {
      "cell_type": "markdown",
      "metadata": {
        "id": "YCYcCUDlp1Yo"
      },
      "source": [
        "In our case, this is in the first position. We then need to move it to end. We are using 'moveaxis' to do that."
      ]
    },
    {
      "cell_type": "code",
      "execution_count": null,
      "metadata": {
        "id": "NmNsXEfep1Yo"
      },
      "outputs": [],
      "source": [
        "# move color channel to final dim\n",
        "image = np.moveaxis(img.data.numpy(), 0, -1)\n",
        "image.shape"
      ]
    },
    {
      "cell_type": "markdown",
      "metadata": {
        "id": "ptPNtUeXp1Yo"
      },
      "source": [
        "We can now plot the image."
      ]
    },
    {
      "cell_type": "code",
      "execution_count": null,
      "metadata": {
        "id": "viaj-qt0p1Yo"
      },
      "outputs": [],
      "source": [
        "import matplotlib.patches as patches\n",
        "\n",
        "fig, ax = plt.subplots(figsize=(Y*0.5, X*0.5))\n",
        "\n",
        "ax.imshow(image)\n",
        "\n",
        "# Create a Rectangle patch\n",
        "rect = patches.Rectangle(\n",
        "    (x_min, y_min), width, height,\n",
        "    linewidth=3, edgecolor='#FAFF00', facecolor='none'\n",
        ")\n",
        "\n",
        "# Add the patch to the Axes\n",
        "ax.add_patch(rect)\n",
        "\n",
        "plt.show()"
      ]
    },
    {
      "cell_type": "markdown",
      "metadata": {
        "id": "YkwW6Krkp1Yo"
      },
      "source": [
        "We can repeat this process for a number of objects that we'd like CLIP to detect. let's put everything we've done so far in a few helper functions, then create a new function called `detect` to handle the detection of multiple objects and visualization of the bounding boxes."
      ]
    },
    {
      "cell_type": "code",
      "execution_count": null,
      "metadata": {
        "id": "c_zYmmGXp1Yo"
      },
      "outputs": [],
      "source": [
        "from tqdm.auto import tqdm\n",
        "import matplotlib.patches as patches\n",
        "\n",
        "colors = ['#FAFF00', '#8CF1FF']\n",
        "\n",
        "def get_patches(img, patch_size=256):\n",
        "    # add extra dimension for later calculations\n",
        "    img_patches = img.data.unfold(0,3,3)\n",
        "    # break the image into patches (in height dimension)\n",
        "    img_patches = img_patches.unfold(1, patch_size, patch_size)\n",
        "    # break the image into patches (in width dimension)\n",
        "    img_patches = img_patches.unfold(2, patch_size, patch_size)\n",
        "    return img_patches\n",
        "\n",
        "def get_scores(img_patches, prompt, window=6, stride=1):\n",
        "    # initialize scores and runs arrays\n",
        "    scores = torch.zeros(img_patches.shape[1], img_patches.shape[2])\n",
        "    runs = torch.ones(img_patches.shape[1], img_patches.shape[2])\n",
        "\n",
        "    # iterate through patches\n",
        "    for Y in range(0, img_patches.shape[1]-window+1, stride):\n",
        "        for X in range(0, img_patches.shape[2]-window+1, stride):\n",
        "            # initialize array to store big patches\n",
        "            big_patch = torch.zeros(patch*window, patch*window, 3)\n",
        "            # get a single big patch\n",
        "            patch_batch = img_patches[0, Y:Y+window, X:X+window]\n",
        "            # iteratively build all big patches\n",
        "            for y in range(window):\n",
        "                for x in range(window):\n",
        "                    big_patch[y*patch:(y+1)*patch, x*patch:(x+1)*patch, :] = patch_batch[y, x].permute(1, 2, 0)\n",
        "            inputs = processor(\n",
        "                images=big_patch, # image trasmitted to the model\n",
        "                return_tensors=\"pt\", # return pytorch tensor\n",
        "                text=prompt, # text trasmitted to the model\n",
        "                padding=True\n",
        "            ).to(device) # move to device if possible\n",
        "\n",
        "            score = model(**inputs).logits_per_image.item()\n",
        "            # sum up similarity scores\n",
        "            scores[Y:Y+window, X:X+window] += score\n",
        "            # calculate the number of runs \n",
        "            runs[Y:Y+window, X:X+window] += 1\n",
        "    # calculate average scores\n",
        "    scores /= runs\n",
        "    # clip scores\n",
        "    for _ in range(3):\n",
        "        scores = np.clip(scores-scores.mean(), 0, np.inf)\n",
        "    # normalize scores\n",
        "    scores = (scores - scores.min()) / (scores.max() - scores.min())\n",
        "    return scores\n",
        "\n",
        "def get_box(scores, patch_size=256, threshold=0.5):\n",
        "    detection = scores > threshold\n",
        "    # find box corners\n",
        "    y_min, y_max = np.nonzero(detection)[:,0].min().item(), np.nonzero(detection)[:,0].max().item()+1\n",
        "    x_min, x_max = np.nonzero(detection)[:,1].min().item(), np.nonzero(detection)[:,1].max().item()+1\n",
        "    # convert from patch co-ords to pixel co-ords\n",
        "    y_min *= patch_size\n",
        "    y_max *= patch_size\n",
        "    x_min *= patch_size\n",
        "    x_max *= patch_size\n",
        "    # calculate box height and width\n",
        "    height = y_max - y_min\n",
        "    width = x_max - x_min\n",
        "    return x_min, y_min, width, height\n",
        "\n",
        "def detect(prompts, img, patch_size=256, window=6, stride=1, threshold=0.5):\n",
        "    # build image patches for detection\n",
        "    img_patches = get_patches(img, patch_size)\n",
        "    # convert image to format for displaying with matplotlib\n",
        "    image = np.moveaxis(img.data.numpy(), 0, -1)\n",
        "    # initialize plot to display image + bounding boxes\n",
        "    fig, ax = plt.subplots(figsize=(Y*0.5, X*0.5))\n",
        "    ax.imshow(image)\n",
        "    # process image through object detection steps\n",
        "    for i, prompt in enumerate(tqdm(prompts)):\n",
        "        scores = get_scores(img_patches, prompt, window, stride)\n",
        "        x, y, width, height = get_box(scores, patch_size, threshold)\n",
        "        # create the bounding box\n",
        "        rect = patches.Rectangle((x, y), width, height, linewidth=3, edgecolor=colors[i], facecolor='none')\n",
        "        # add the patch to the Axes\n",
        "        ax.add_patch(rect)\n",
        "    plt.show()"
      ]
    },
    {
      "cell_type": "code",
      "execution_count": 39,
      "metadata": {
        "colab": {
          "base_uri": "https://localhost:8080/",
          "height": 437,
          "referenced_widgets": [
            "fa16d9e2ae134f4bb89c3ea90a5fa8ed",
            "05901539841a4b0f97e3a6a8b2e4836d",
            "30f657b8971649c7bafeb289a01f66d7",
            "0a33f270be0a4bce8b1bfd8ae00eadca",
            "8e126692c04c40a8971b6bfb22609c30",
            "18690634db134df1b61affc7e3e8c171",
            "7ab59c3bf0574b069d51477967bc3e9a",
            "fb2e7a2ea8824f869e3dfe3500c8573f",
            "8b46297c69f1425680b642355686e1dd",
            "082dcc1980eb4f9080271a39598a02dc",
            "42f2416ff37a4a98abdde74079fce7fe"
          ]
        },
        "id": "cmTVwGPAp1Yo",
        "outputId": "2f217c94-5703-40e5-96f7-a422e64c13fc"
      },
      "outputs": [
        {
          "data": {
            "application/vnd.jupyter.widget-view+json": {
              "model_id": "fa16d9e2ae134f4bb89c3ea90a5fa8ed",
              "version_major": 2,
              "version_minor": 0
            },
            "text/plain": [
              "  0%|          | 0/2 [00:00<?, ?it/s]"
            ]
          },
          "metadata": {},
          "output_type": "display_data"
        },
        {
          "data": {
            "image/png": "[encoded data removed]",
            "text/plain": [
              "<Figure size 720x468 with 1 Axes>"
            ]
          },
          "metadata": {
            "needs_background": "light"
          },
          "output_type": "display_data"
        }
      ],
      "source": [
        "detect([\"a cat\", \"a butterfly\"], img, window=4, stride=1)"
      ]
    },
    {
      "cell_type": "markdown",
      "metadata": {
        "id": "FQIhI9uPp1Yp"
      },
      "source": [
        "---"
      ]
    }
  ],
  "metadata": {
    "accelerator": "GPU",
    "colab": {
      "provenance": []
    },
    "gpuClass": "standard",
    "kernelspec": {
      "display_name": "Python 3.8.0 ('dl')",
      "language": "python",
      "name": "python3"
    },
    "language_info": {
      "codemirror_mode": {
        "name": "ipython",
        "version": 3
      },
      "file_extension": ".py",
      "mimetype": "text/x-python",
      "name": "python",
      "nbconvert_exporter": "python",
      "pygments_lexer": "ipython3",
      "version": "3.8.0"
    },
    "orig_nbformat": 4,
    "vscode": {
      "interpreter": {
        "hash": "d2e88d439575f571d562e8394dd0b9838c5aa8f8d60c6cb720c50abd26d6eca3"
      }
    },
    "widgets": {
      "application/vnd.jupyter.widget-state+json": {
        "05901539841a4b0f97e3a6a8b2e4836d": {
          "model_module": "@jupyter-widgets/controls",
          "model_module_version": "1.5.0",
          "model_name": "HTMLModel",
          "state": {
            "_dom_classes": [],
            "_model_module": "@jupyter-widgets/controls",
            "_model_module_version": "1.5.0",
            "_model_name": "HTMLModel",
            "_view_count": null,
            "_view_module": "@jupyter-widgets/controls",
            "_view_module_version": "1.5.0",
            "_view_name": "HTMLView",
            "description": "",
            "description_tooltip": null,
            "layout": "IPY_MODEL_18690634db134df1b61affc7e3e8c171",
            "placeholder": "​",
            "style": "IPY_MODEL_7ab59c3bf0574b069d51477967bc3e9a",
            "value": "100%"
          }
        },
        "082dcc1980eb4f9080271a39598a02dc": {
          "model_module": "@jupyter-widgets/base",
          "model_module_version": "1.2.0",
          "model_name": "LayoutModel",
          "state": {
            "_model_module": "@jupyter-widgets/base",
            "_model_module_version": "1.2.0",
            "_model_name": "LayoutModel",
            "_view_count": null,
            "_view_module": "@jupyter-widgets/base",
            "_view_module_version": "1.2.0",
            "_view_name": "LayoutView",
            "align_content": null,
            "align_items": null,
            "align_self": null,
            "border": null,
            "bottom": null,
            "display": null,
            "flex": null,
            "flex_flow": null,
            "grid_area": null,
            "grid_auto_columns": null,
            "grid_auto_flow": null,
            "grid_auto_rows": null,
            "grid_column": null,
            "grid_gap": null,
            "grid_row": null,
            "grid_template_areas": null,
            "grid_template_columns": null,
            "grid_template_rows": null,
            "height": null,
            "justify_content": null,
            "justify_items": null,
            "left": null,
            "margin": null,
            "max_height": null,
            "max_width": null,
            "min_height": null,
            "min_width": null,
            "object_fit": null,
            "object_position": null,
            "order": null,
            "overflow": null,
            "overflow_x": null,
            "overflow_y": null,
            "padding": null,
            "right": null,
            "top": null,
            "visibility": null,
            "width": null
          }
        },
        "0a33f270be0a4bce8b1bfd8ae00eadca": {
          "model_module": "@jupyter-widgets/controls",
          "model_module_version": "1.5.0",
          "model_name": "HTMLModel",
          "state": {
            "_dom_classes": [],
            "_model_module": "@jupyter-widgets/controls",
            "_model_module_version": "1.5.0",
            "_model_name": "HTMLModel",
            "_view_count": null,
            "_view_module": "@jupyter-widgets/controls",
            "_view_module_version": "1.5.0",
            "_view_name": "HTMLView",
            "description": "",
            "description_tooltip": null,
            "layout": "IPY_MODEL_082dcc1980eb4f9080271a39598a02dc",
            "placeholder": "​",
            "style": "IPY_MODEL_42f2416ff37a4a98abdde74079fce7fe",
            "value": " 2/2 [00:19&lt;00:00,  9.97s/it]"
          }
        },
        "0e7d0352df3f4b6095e21a97cd6b972c": {
          "model_module": "@jupyter-widgets/controls",
          "model_module_version": "1.5.0",
          "model_name": "DescriptionStyleModel",
          "state": {
            "_model_module": "@jupyter-widgets/controls",
            "_model_module_version": "1.5.0",
            "_model_name": "DescriptionStyleModel",
            "_view_count": null,
            "_view_module": "@jupyter-widgets/base",
            "_view_module_version": "1.2.0",
            "_view_name": "StyleView",
            "description_width": ""
          }
        },
        "18690634db134df1b61affc7e3e8c171": {
          "model_module": "@jupyter-widgets/base",
          "model_module_version": "1.2.0",
          "model_name": "LayoutModel",
          "state": {
            "_model_module": "@jupyter-widgets/base",
            "_model_module_version": "1.2.0",
            "_model_name": "LayoutModel",
            "_view_count": null,
            "_view_module": "@jupyter-widgets/base",
            "_view_module_version": "1.2.0",
            "_view_name": "LayoutView",
            "align_content": null,
            "align_items": null,
            "align_self": null,
            "border": null,
            "bottom": null,
            "display": null,
            "flex": null,
            "flex_flow": null,
            "grid_area": null,
            "grid_auto_columns": null,
            "grid_auto_flow": null,
            "grid_auto_rows": null,
            "grid_column": null,
            "grid_gap": null,
            "grid_row": null,
            "grid_template_areas": null,
            "grid_template_columns": null,
            "grid_template_rows": null,
            "height": null,
            "justify_content": null,
            "justify_items": null,
            "left": null,
            "margin": null,
            "max_height": null,
            "max_width": null,
            "min_height": null,
            "min_width": null,
            "object_fit": null,
            "object_position": null,
            "order": null,
            "overflow": null,
            "overflow_x": null,
            "overflow_y": null,
            "padding": null,
            "right": null,
            "top": null,
            "visibility": null,
            "width": null
          }
        },
        "22dc5352fa1d4c509e230cd988626eff": {
          "model_module": "@jupyter-widgets/controls",
          "model_module_version": "1.5.0",
          "model_name": "HBoxModel",
          "state": {
            "_dom_classes": [],
            "_model_module": "@jupyter-widgets/controls",
            "_model_module_version": "1.5.0",
            "_model_name": "HBoxModel",
            "_view_count": null,
            "_view_module": "@jupyter-widgets/controls",
            "_view_module_version": "1.5.0",
            "_view_name": "HBoxView",
            "box_style": "",
            "children": [
              "IPY_MODEL_323589f2e6444b75a907b055ccc4963c",
              "IPY_MODEL_663853885c39414e99a9514ec6dae58a",
              "IPY_MODEL_6e2058a5840f4bb787cd2465c53480a2"
            ],
            "layout": "IPY_MODEL_7df17e049f8444b1834855dca9033f89"
          }
        },
        "231af02c192c446296e45e110da70f66": {
          "model_module": "@jupyter-widgets/controls",
          "model_module_version": "1.5.0",
          "model_name": "HBoxModel",
          "state": {
            "_dom_classes": [],
            "_model_module": "@jupyter-widgets/controls",
            "_model_module_version": "1.5.0",
            "_model_name": "HBoxModel",
            "_view_count": null,
            "_view_module": "@jupyter-widgets/controls",
            "_view_module_version": "1.5.0",
            "_view_name": "HBoxView",
            "box_style": "",
            "children": [
              "IPY_MODEL_d243a922b710489caaa5cdbfc0cab434",
              "IPY_MODEL_4759ad0ced1a40fc9c781a7b92ec8449",
              "IPY_MODEL_5fe5fb762ca1474999f267fcbf00d22d"
            ],
            "layout": "IPY_MODEL_58b780e526954f318d14e9fae55c900b"
          }
        },
        "2e3354072f304459afedca2b4d6114c9": {
          "model_module": "@jupyter-widgets/controls",
          "model_module_version": "1.5.0",
          "model_name": "DescriptionStyleModel",
          "state": {
            "_model_module": "@jupyter-widgets/controls",
            "_model_module_version": "1.5.0",
            "_model_name": "DescriptionStyleModel",
            "_view_count": null,
            "_view_module": "@jupyter-widgets/base",
            "_view_module_version": "1.2.0",
            "_view_name": "StyleView",
            "description_width": ""
          }
        },
        "30f657b8971649c7bafeb289a01f66d7": {
          "model_module": "@jupyter-widgets/controls",
          "model_module_version": "1.5.0",
          "model_name": "FloatProgressModel",
          "state": {
            "_dom_classes": [],
            "_model_module": "@jupyter-widgets/controls",
            "_model_module_version": "1.5.0",
            "_model_name": "FloatProgressModel",
            "_view_count": null,
            "_view_module": "@jupyter-widgets/controls",
            "_view_module_version": "1.5.0",
            "_view_name": "ProgressView",
            "bar_style": "success",
            "description": "",
            "description_tooltip": null,
            "layout": "IPY_MODEL_fb2e7a2ea8824f869e3dfe3500c8573f",
            "max": 2,
            "min": 0,
            "orientation": "horizontal",
            "style": "IPY_MODEL_8b46297c69f1425680b642355686e1dd",
            "value": 2
          }
        },
        "323589f2e6444b75a907b055ccc4963c": {
          "model_module": "@jupyter-widgets/controls",
          "model_module_version": "1.5.0",
          "model_name": "HTMLModel",
          "state": {
            "_dom_classes": [],
            "_model_module": "@jupyter-widgets/controls",
            "_model_module_version": "1.5.0",
            "_model_name": "HTMLModel",
            "_view_count": null,
            "_view_module": "@jupyter-widgets/controls",
            "_view_module_version": "1.5.0",
            "_view_name": "HTMLView",
            "description": "",
            "description_tooltip": null,
            "layout": "IPY_MODEL_d56ed8a6ef404230bd7d19359b14d0ae",
            "placeholder": "​",
            "style": "IPY_MODEL_2e3354072f304459afedca2b4d6114c9",
            "value": "Downloading data: 100%"
          }
        },
        "36df7aa4785f4e43b7a1c2c292824b9e": {
          "model_module": "@jupyter-widgets/controls",
          "model_module_version": "1.5.0",
          "model_name": "HTMLModel",
          "state": {
            "_dom_classes": [],
            "_model_module": "@jupyter-widgets/controls",
            "_model_module_version": "1.5.0",
            "_model_name": "HTMLModel",
            "_view_count": null,
            "_view_module": "@jupyter-widgets/controls",
            "_view_module_version": "1.5.0",
            "_view_name": "HTMLView",
            "description": "",
            "description_tooltip": null,
            "layout": "IPY_MODEL_6f0226d9d005423487fbc0c65d2d9eba",
            "placeholder": "​",
            "style": "IPY_MODEL_f3b2dbf647ad41b88188ccac892abfde",
            "value": "Generating train split: "
          }
        },
        "3d0dd71bae9a4a35ab160cb26e9d0846": {
          "model_module": "@jupyter-widgets/base",
          "model_module_version": "1.2.0",
          "model_name": "LayoutModel",
          "state": {
            "_model_module": "@jupyter-widgets/base",
            "_model_module_version": "1.2.0",
            "_model_name": "LayoutModel",
            "_view_count": null,
            "_view_module": "@jupyter-widgets/base",
            "_view_module_version": "1.2.0",
            "_view_name": "LayoutView",
            "align_content": null,
            "align_items": null,
            "align_self": null,
            "border": null,
            "bottom": null,
            "display": null,
            "flex": null,
            "flex_flow": null,
            "grid_area": null,
            "grid_auto_columns": null,
            "grid_auto_flow": null,
            "grid_auto_rows": null,
            "grid_column": null,
            "grid_gap": null,
            "grid_row": null,
            "grid_template_areas": null,
            "grid_template_columns": null,
            "grid_template_rows": null,
            "height": null,
            "justify_content": null,
            "justify_items": null,
            "left": null,
            "margin": null,
            "max_height": null,
            "max_width": null,
            "min_height": null,
            "min_width": null,
            "object_fit": null,
            "object_position": null,
            "order": null,
            "overflow": null,
            "overflow_x": null,
            "overflow_y": null,
            "padding": null,
            "right": null,
            "top": null,
            "visibility": null,
            "width": null
          }
        },
        "3e8cb75c175245fe80b00a54d54c2748": {
          "model_module": "@jupyter-widgets/base",
          "model_module_version": "1.2.0",
          "model_name": "LayoutModel",
          "state": {
            "_model_module": "@jupyter-widgets/base",
            "_model_module_version": "1.2.0",
            "_model_name": "LayoutModel",
            "_view_count": null,
            "_view_module": "@jupyter-widgets/base",
            "_view_module_version": "1.2.0",
            "_view_name": "LayoutView",
            "align_content": null,
            "align_items": null,
            "align_self": null,
            "border": null,
            "bottom": null,
            "display": null,
            "flex": null,
            "flex_flow": null,
            "grid_area": null,
            "grid_auto_columns": null,
            "grid_auto_flow": null,
            "grid_auto_rows": null,
            "grid_column": null,
            "grid_gap": null,
            "grid_row": null,
            "grid_template_areas": null,
            "grid_template_columns": null,
            "grid_template_rows": null,
            "height": null,
            "justify_content": null,
            "justify_items": null,
            "left": null,
            "margin": null,
            "max_height": null,
            "max_width": null,
            "min_height": null,
            "min_width": null,
            "object_fit": null,
            "object_position": null,
            "order": null,
            "overflow": null,
            "overflow_x": null,
            "overflow_y": null,
            "padding": null,
            "right": null,
            "top": null,
            "visibility": null,
            "width": null
          }
        },
        "42f2416ff37a4a98abdde74079fce7fe": {
          "model_module": "@jupyter-widgets/controls",
          "model_module_version": "1.5.0",
          "model_name": "DescriptionStyleModel",
          "state": {
            "_model_module": "@jupyter-widgets/controls",
            "_model_module_version": "1.5.0",
            "_model_name": "DescriptionStyleModel",
            "_view_count": null,
            "_view_module": "@jupyter-widgets/base",
            "_view_module_version": "1.2.0",
            "_view_name": "StyleView",
            "description_width": ""
          }
        },
        "4759ad0ced1a40fc9c781a7b92ec8449": {
          "model_module": "@jupyter-widgets/controls",
          "model_module_version": "1.5.0",
          "model_name": "FloatProgressModel",
          "state": {
            "_dom_classes": [],
            "_model_module": "@jupyter-widgets/controls",
            "_model_module_version": "1.5.0",
            "_model_name": "FloatProgressModel",
            "_view_count": null,
            "_view_module": "@jupyter-widgets/controls",
            "_view_module_version": "1.5.0",
            "_view_name": "ProgressView",
            "bar_style": "success",
            "description": "",
            "description_tooltip": null,
            "layout": "IPY_MODEL_3e8cb75c175245fe80b00a54d54c2748",
            "max": 1723,
            "min": 0,
            "orientation": "horizontal",
            "style": "IPY_MODEL_60d42237b9684efcab6f4499b1795076",
            "value": 1723
          }
        },
        "53f9fea1761649c3afa570065e0378ac": {
          "model_module": "@jupyter-widgets/controls",
          "model_module_version": "1.5.0",
          "model_name": "HBoxModel",
          "state": {
            "_dom_classes": [],
            "_model_module": "@jupyter-widgets/controls",
            "_model_module_version": "1.5.0",
            "_model_name": "HBoxModel",
            "_view_count": null,
            "_view_module": "@jupyter-widgets/controls",
            "_view_module_version": "1.5.0",
            "_view_name": "HBoxView",
            "box_style": "",
            "children": [
              "IPY_MODEL_36df7aa4785f4e43b7a1c2c292824b9e",
              "IPY_MODEL_aed1b75795c04646832bf8e912424e66",
              "IPY_MODEL_efc015fefe5449829b1d3291102f2280"
            ],
            "layout": "IPY_MODEL_3d0dd71bae9a4a35ab160cb26e9d0846"
          }
        },
        "58b780e526954f318d14e9fae55c900b": {
          "model_module": "@jupyter-widgets/base",
          "model_module_version": "1.2.0",
          "model_name": "LayoutModel",
          "state": {
            "_model_module": "@jupyter-widgets/base",
            "_model_module_version": "1.2.0",
            "_model_name": "LayoutModel",
            "_view_count": null,
            "_view_module": "@jupyter-widgets/base",
            "_view_module_version": "1.2.0",
            "_view_name": "LayoutView",
            "align_content": null,
            "align_items": null,
            "align_self": null,
            "border": null,
            "bottom": null,
            "display": null,
            "flex": null,
            "flex_flow": null,
            "grid_area": null,
            "grid_auto_columns": null,
            "grid_auto_flow": null,
            "grid_auto_rows": null,
            "grid_column": null,
            "grid_gap": null,
            "grid_row": null,
            "grid_template_areas": null,
            "grid_template_columns": null,
            "grid_template_rows": null,
            "height": null,
            "justify_content": null,
            "justify_items": null,
            "left": null,
            "margin": null,
            "max_height": null,
            "max_width": null,
            "min_height": null,
            "min_width": null,
            "object_fit": null,
            "object_position": null,
            "order": null,
            "overflow": null,
            "overflow_x": null,
            "overflow_y": null,
            "padding": null,
            "right": null,
            "top": null,
            "visibility": null,
            "width": null
          }
        },
        "5fe5fb762ca1474999f267fcbf00d22d": {
          "model_module": "@jupyter-widgets/controls",
          "model_module_version": "1.5.0",
          "model_name": "HTMLModel",
          "state": {
            "_dom_classes": [],
            "_model_module": "@jupyter-widgets/controls",
            "_model_module_version": "1.5.0",
            "_model_name": "HTMLModel",
            "_view_count": null,
            "_view_module": "@jupyter-widgets/controls",
            "_view_module_version": "1.5.0",
            "_view_name": "HTMLView",
            "description": "",
            "description_tooltip": null,
            "layout": "IPY_MODEL_e738ab7b57244a23ac604ad5aff9dfdf",
            "placeholder": "​",
            "style": "IPY_MODEL_78149353b6d74ff9ac95a77ca640889d",
            "value": " 1.72k/1.72k [00:00&lt;00:00, 85.5kB/s]"
          }
        },
        "60d42237b9684efcab6f4499b1795076": {
          "model_module": "@jupyter-widgets/controls",
          "model_module_version": "1.5.0",
          "model_name": "ProgressStyleModel",
          "state": {
            "_model_module": "@jupyter-widgets/controls",
            "_model_module_version": "1.5.0",
            "_model_name": "ProgressStyleModel",
            "_view_count": null,
            "_view_module": "@jupyter-widgets/base",
            "_view_module_version": "1.2.0",
            "_view_name": "StyleView",
            "bar_color": null,
            "description_width": ""
          }
        },
        "663853885c39414e99a9514ec6dae58a": {
          "model_module": "@jupyter-widgets/controls",
          "model_module_version": "1.5.0",
          "model_name": "FloatProgressModel",
          "state": {
            "_dom_classes": [],
            "_model_module": "@jupyter-widgets/controls",
            "_model_module_version": "1.5.0",
            "_model_name": "FloatProgressModel",
            "_view_count": null,
            "_view_module": "@jupyter-widgets/controls",
            "_view_module_version": "1.5.0",
            "_view_name": "ProgressView",
            "bar_style": "success",
            "description": "",
            "description_tooltip": null,
            "layout": "IPY_MODEL_a7b486bed0a34b6b922a9bc892b0ae0b",
            "max": 37837771,
            "min": 0,
            "orientation": "horizontal",
            "style": "IPY_MODEL_71a733e94fe941ea9f71fffed5057b19",
            "value": 37837771
          }
        },
        "6e2058a5840f4bb787cd2465c53480a2": {
          "model_module": "@jupyter-widgets/controls",
          "model_module_version": "1.5.0",
          "model_name": "HTMLModel",
          "state": {
            "_dom_classes": [],
            "_model_module": "@jupyter-widgets/controls",
            "_model_module_version": "1.5.0",
            "_model_name": "HTMLModel",
            "_view_count": null,
            "_view_module": "@jupyter-widgets/controls",
            "_view_module_version": "1.5.0",
            "_view_name": "HTMLView",
            "description": "",
            "description_tooltip": null,
            "layout": "IPY_MODEL_9e4362cade084e23b3774c66034b7dcf",
            "placeholder": "​",
            "style": "IPY_MODEL_755452a63d3148ee981a0e33d9cf4df2",
            "value": " 37.8M/37.8M [00:03&lt;00:00, 17.9MB/s]"
          }
        },
        "6f0226d9d005423487fbc0c65d2d9eba": {
          "model_module": "@jupyter-widgets/base",
          "model_module_version": "1.2.0",
          "model_name": "LayoutModel",
          "state": {
            "_model_module": "@jupyter-widgets/base",
            "_model_module_version": "1.2.0",
            "_model_name": "LayoutModel",
            "_view_count": null,
            "_view_module": "@jupyter-widgets/base",
            "_view_module_version": "1.2.0",
            "_view_name": "LayoutView",
            "align_content": null,
            "align_items": null,
            "align_self": null,
            "border": null,
            "bottom": null,
            "display": null,
            "flex": null,
            "flex_flow": null,
            "grid_area": null,
            "grid_auto_columns": null,
            "grid_auto_flow": null,
            "grid_auto_rows": null,
            "grid_column": null,
            "grid_gap": null,
            "grid_row": null,
            "grid_template_areas": null,
            "grid_template_columns": null,
            "grid_template_rows": null,
            "height": null,
            "justify_content": null,
            "justify_items": null,
            "left": null,
            "margin": null,
            "max_height": null,
            "max_width": null,
            "min_height": null,
            "min_width": null,
            "object_fit": null,
            "object_position": null,
            "order": null,
            "overflow": null,
            "overflow_x": null,
            "overflow_y": null,
            "padding": null,
            "right": null,
            "top": null,
            "visibility": null,
            "width": null
          }
        },
        "71a733e94fe941ea9f71fffed5057b19": {
          "model_module": "@jupyter-widgets/controls",
          "model_module_version": "1.5.0",
          "model_name": "ProgressStyleModel",
          "state": {
            "_model_module": "@jupyter-widgets/controls",
            "_model_module_version": "1.5.0",
            "_model_name": "ProgressStyleModel",
            "_view_count": null,
            "_view_module": "@jupyter-widgets/base",
            "_view_module_version": "1.2.0",
            "_view_name": "StyleView",
            "bar_color": null,
            "description_width": ""
          }
        },
        "722260b5b3cb45059ca8b9e3229283f9": {
          "model_module": "@jupyter-widgets/controls",
          "model_module_version": "1.5.0",
          "model_name": "DescriptionStyleModel",
          "state": {
            "_model_module": "@jupyter-widgets/controls",
            "_model_module_version": "1.5.0",
            "_model_name": "DescriptionStyleModel",
            "_view_count": null,
            "_view_module": "@jupyter-widgets/base",
            "_view_module_version": "1.2.0",
            "_view_name": "StyleView",
            "description_width": ""
          }
        },
        "755452a63d3148ee981a0e33d9cf4df2": {
          "model_module": "@jupyter-widgets/controls",
          "model_module_version": "1.5.0",
          "model_name": "DescriptionStyleModel",
          "state": {
            "_model_module": "@jupyter-widgets/controls",
            "_model_module_version": "1.5.0",
            "_model_name": "DescriptionStyleModel",
            "_view_count": null,
            "_view_module": "@jupyter-widgets/base",
            "_view_module_version": "1.2.0",
            "_view_name": "StyleView",
            "description_width": ""
          }
        },
        "78149353b6d74ff9ac95a77ca640889d": {
          "model_module": "@jupyter-widgets/controls",
          "model_module_version": "1.5.0",
          "model_name": "DescriptionStyleModel",
          "state": {
            "_model_module": "@jupyter-widgets/controls",
            "_model_module_version": "1.5.0",
            "_model_name": "DescriptionStyleModel",
            "_view_count": null,
            "_view_module": "@jupyter-widgets/base",
            "_view_module_version": "1.2.0",
            "_view_name": "StyleView",
            "description_width": ""
          }
        },
        "7ab59c3bf0574b069d51477967bc3e9a": {
          "model_module": "@jupyter-widgets/controls",
          "model_module_version": "1.5.0",
          "model_name": "DescriptionStyleModel",
          "state": {
            "_model_module": "@jupyter-widgets/controls",
            "_model_module_version": "1.5.0",
            "_model_name": "DescriptionStyleModel",
            "_view_count": null,
            "_view_module": "@jupyter-widgets/base",
            "_view_module_version": "1.2.0",
            "_view_name": "StyleView",
            "description_width": ""
          }
        },
        "7df17e049f8444b1834855dca9033f89": {
          "model_module": "@jupyter-widgets/base",
          "model_module_version": "1.2.0",
          "model_name": "LayoutModel",
          "state": {
            "_model_module": "@jupyter-widgets/base",
            "_model_module_version": "1.2.0",
            "_model_name": "LayoutModel",
            "_view_count": null,
            "_view_module": "@jupyter-widgets/base",
            "_view_module_version": "1.2.0",
            "_view_name": "LayoutView",
            "align_content": null,
            "align_items": null,
            "align_self": null,
            "border": null,
            "bottom": null,
            "display": null,
            "flex": null,
            "flex_flow": null,
            "grid_area": null,
            "grid_auto_columns": null,
            "grid_auto_flow": null,
            "grid_auto_rows": null,
            "grid_column": null,
            "grid_gap": null,
            "grid_row": null,
            "grid_template_areas": null,
            "grid_template_columns": null,
            "grid_template_rows": null,
            "height": null,
            "justify_content": null,
            "justify_items": null,
            "left": null,
            "margin": null,
            "max_height": null,
            "max_width": null,
            "min_height": null,
            "min_width": null,
            "object_fit": null,
            "object_position": null,
            "order": null,
            "overflow": null,
            "overflow_x": null,
            "overflow_y": null,
            "padding": null,
            "right": null,
            "top": null,
            "visibility": null,
            "width": null
          }
        },
        "888e96292f2b4465abdb4ffbfecde543": {
          "model_module": "@jupyter-widgets/base",
          "model_module_version": "1.2.0",
          "model_name": "LayoutModel",
          "state": {
            "_model_module": "@jupyter-widgets/base",
            "_model_module_version": "1.2.0",
            "_model_name": "LayoutModel",
            "_view_count": null,
            "_view_module": "@jupyter-widgets/base",
            "_view_module_version": "1.2.0",
            "_view_name": "LayoutView",
            "align_content": null,
            "align_items": null,
            "align_self": null,
            "border": null,
            "bottom": null,
            "display": null,
            "flex": null,
            "flex_flow": null,
            "grid_area": null,
            "grid_auto_columns": null,
            "grid_auto_flow": null,
            "grid_auto_rows": null,
            "grid_column": null,
            "grid_gap": null,
            "grid_row": null,
            "grid_template_areas": null,
            "grid_template_columns": null,
            "grid_template_rows": null,
            "height": null,
            "justify_content": null,
            "justify_items": null,
            "left": null,
            "margin": null,
            "max_height": null,
            "max_width": null,
            "min_height": null,
            "min_width": null,
            "object_fit": null,
            "object_position": null,
            "order": null,
            "overflow": null,
            "overflow_x": null,
            "overflow_y": null,
            "padding": null,
            "right": null,
            "top": null,
            "visibility": null,
            "width": "20px"
          }
        },
        "8b46297c69f1425680b642355686e1dd": {
          "model_module": "@jupyter-widgets/controls",
          "model_module_version": "1.5.0",
          "model_name": "ProgressStyleModel",
          "state": {
            "_model_module": "@jupyter-widgets/controls",
            "_model_module_version": "1.5.0",
            "_model_name": "ProgressStyleModel",
            "_view_count": null,
            "_view_module": "@jupyter-widgets/base",
            "_view_module_version": "1.2.0",
            "_view_name": "StyleView",
            "bar_color": null,
            "description_width": ""
          }
        },
        "8e126692c04c40a8971b6bfb22609c30": {
          "model_module": "@jupyter-widgets/base",
          "model_module_version": "1.2.0",
          "model_name": "LayoutModel",
          "state": {
            "_model_module": "@jupyter-widgets/base",
            "_model_module_version": "1.2.0",
            "_model_name": "LayoutModel",
            "_view_count": null,
            "_view_module": "@jupyter-widgets/base",
            "_view_module_version": "1.2.0",
            "_view_name": "LayoutView",
            "align_content": null,
            "align_items": null,
            "align_self": null,
            "border": null,
            "bottom": null,
            "display": null,
            "flex": null,
            "flex_flow": null,
            "grid_area": null,
            "grid_auto_columns": null,
            "grid_auto_flow": null,
            "grid_auto_rows": null,
            "grid_column": null,
            "grid_gap": null,
            "grid_row": null,
            "grid_template_areas": null,
            "grid_template_columns": null,
            "grid_template_rows": null,
            "height": null,
            "justify_content": null,
            "justify_items": null,
            "left": null,
            "margin": null,
            "max_height": null,
            "max_width": null,
            "min_height": null,
            "min_width": null,
            "object_fit": null,
            "object_position": null,
            "order": null,
            "overflow": null,
            "overflow_x": null,
            "overflow_y": null,
            "padding": null,
            "right": null,
            "top": null,
            "visibility": null,
            "width": null
          }
        },
        "9e4362cade084e23b3774c66034b7dcf": {
          "model_module": "@jupyter-widgets/base",
          "model_module_version": "1.2.0",
          "model_name": "LayoutModel",
          "state": {
            "_model_module": "@jupyter-widgets/base",
            "_model_module_version": "1.2.0",
            "_model_name": "LayoutModel",
            "_view_count": null,
            "_view_module": "@jupyter-widgets/base",
            "_view_module_version": "1.2.0",
            "_view_name": "LayoutView",
            "align_content": null,
            "align_items": null,
            "align_self": null,
            "border": null,
            "bottom": null,
            "display": null,
            "flex": null,
            "flex_flow": null,
            "grid_area": null,
            "grid_auto_columns": null,
            "grid_auto_flow": null,
            "grid_auto_rows": null,
            "grid_column": null,
            "grid_gap": null,
            "grid_row": null,
            "grid_template_areas": null,
            "grid_template_columns": null,
            "grid_template_rows": null,
            "height": null,
            "justify_content": null,
            "justify_items": null,
            "left": null,
            "margin": null,
            "max_height": null,
            "max_width": null,
            "min_height": null,
            "min_width": null,
            "object_fit": null,
            "object_position": null,
            "order": null,
            "overflow": null,
            "overflow_x": null,
            "overflow_y": null,
            "padding": null,
            "right": null,
            "top": null,
            "visibility": null,
            "width": null
          }
        },
        "a7b486bed0a34b6b922a9bc892b0ae0b": {
          "model_module": "@jupyter-widgets/base",
          "model_module_version": "1.2.0",
          "model_name": "LayoutModel",
          "state": {
            "_model_module": "@jupyter-widgets/base",
            "_model_module_version": "1.2.0",
            "_model_name": "LayoutModel",
            "_view_count": null,
            "_view_module": "@jupyter-widgets/base",
            "_view_module_version": "1.2.0",
            "_view_name": "LayoutView",
            "align_content": null,
            "align_items": null,
            "align_self": null,
            "border": null,
            "bottom": null,
            "display": null,
            "flex": null,
            "flex_flow": null,
            "grid_area": null,
            "grid_auto_columns": null,
            "grid_auto_flow": null,
            "grid_auto_rows": null,
            "grid_column": null,
            "grid_gap": null,
            "grid_row": null,
            "grid_template_areas": null,
            "grid_template_columns": null,
            "grid_template_rows": null,
            "height": null,
            "justify_content": null,
            "justify_items": null,
            "left": null,
            "margin": null,
            "max_height": null,
            "max_width": null,
            "min_height": null,
            "min_width": null,
            "object_fit": null,
            "object_position": null,
            "order": null,
            "overflow": null,
            "overflow_x": null,
            "overflow_y": null,
            "padding": null,
            "right": null,
            "top": null,
            "visibility": null,
            "width": null
          }
        },
        "ad69463519d4409fa6ef507b8e7f3dfb": {
          "model_module": "@jupyter-widgets/controls",
          "model_module_version": "1.5.0",
          "model_name": "ProgressStyleModel",
          "state": {
            "_model_module": "@jupyter-widgets/controls",
            "_model_module_version": "1.5.0",
            "_model_name": "ProgressStyleModel",
            "_view_count": null,
            "_view_module": "@jupyter-widgets/base",
            "_view_module_version": "1.2.0",
            "_view_name": "StyleView",
            "bar_color": null,
            "description_width": ""
          }
        },
        "aed1b75795c04646832bf8e912424e66": {
          "model_module": "@jupyter-widgets/controls",
          "model_module_version": "1.5.0",
          "model_name": "FloatProgressModel",
          "state": {
            "_dom_classes": [],
            "_model_module": "@jupyter-widgets/controls",
            "_model_module_version": "1.5.0",
            "_model_name": "FloatProgressModel",
            "_view_count": null,
            "_view_module": "@jupyter-widgets/controls",
            "_view_module_version": "1.5.0",
            "_view_name": "ProgressView",
            "bar_style": "info",
            "description": "",
            "description_tooltip": null,
            "layout": "IPY_MODEL_888e96292f2b4465abdb4ffbfecde543",
            "max": 1,
            "min": 0,
            "orientation": "horizontal",
            "style": "IPY_MODEL_ad69463519d4409fa6ef507b8e7f3dfb",
            "value": 1
          }
        },
        "c8f4918a5d4c4024994624c4a4b8dd0d": {
          "model_module": "@jupyter-widgets/base",
          "model_module_version": "1.2.0",
          "model_name": "LayoutModel",
          "state": {
            "_model_module": "@jupyter-widgets/base",
            "_model_module_version": "1.2.0",
            "_model_name": "LayoutModel",
            "_view_count": null,
            "_view_module": "@jupyter-widgets/base",
            "_view_module_version": "1.2.0",
            "_view_name": "LayoutView",
            "align_content": null,
            "align_items": null,
            "align_self": null,
            "border": null,
            "bottom": null,
            "display": null,
            "flex": null,
            "flex_flow": null,
            "grid_area": null,
            "grid_auto_columns": null,
            "grid_auto_flow": null,
            "grid_auto_rows": null,
            "grid_column": null,
            "grid_gap": null,
            "grid_row": null,
            "grid_template_areas": null,
            "grid_template_columns": null,
            "grid_template_rows": null,
            "height": null,
            "justify_content": null,
            "justify_items": null,
            "left": null,
            "margin": null,
            "max_height": null,
            "max_width": null,
            "min_height": null,
            "min_width": null,
            "object_fit": null,
            "object_position": null,
            "order": null,
            "overflow": null,
            "overflow_x": null,
            "overflow_y": null,
            "padding": null,
            "right": null,
            "top": null,
            "visibility": null,
            "width": null
          }
        },
        "d243a922b710489caaa5cdbfc0cab434": {
          "model_module": "@jupyter-widgets/controls",
          "model_module_version": "1.5.0",
          "model_name": "HTMLModel",
          "state": {
            "_dom_classes": [],
            "_model_module": "@jupyter-widgets/controls",
            "_model_module_version": "1.5.0",
            "_model_name": "HTMLModel",
            "_view_count": null,
            "_view_module": "@jupyter-widgets/controls",
            "_view_module_version": "1.5.0",
            "_view_name": "HTMLView",
            "description": "",
            "description_tooltip": null,
            "layout": "IPY_MODEL_f48c7c35fdb24336898b371c2ea90078",
            "placeholder": "​",
            "style": "IPY_MODEL_722260b5b3cb45059ca8b9e3229283f9",
            "value": "Downloading builder script: 100%"
          }
        },
        "d56ed8a6ef404230bd7d19359b14d0ae": {
          "model_module": "@jupyter-widgets/base",
          "model_module_version": "1.2.0",
          "model_name": "LayoutModel",
          "state": {
            "_model_module": "@jupyter-widgets/base",
            "_model_module_version": "1.2.0",
            "_model_name": "LayoutModel",
            "_view_count": null,
            "_view_module": "@jupyter-widgets/base",
            "_view_module_version": "1.2.0",
            "_view_name": "LayoutView",
            "align_content": null,
            "align_items": null,
            "align_self": null,
            "border": null,
            "bottom": null,
            "display": null,
            "flex": null,
            "flex_flow": null,
            "grid_area": null,
            "grid_auto_columns": null,
            "grid_auto_flow": null,
            "grid_auto_rows": null,
            "grid_column": null,
            "grid_gap": null,
            "grid_row": null,
            "grid_template_areas": null,
            "grid_template_columns": null,
            "grid_template_rows": null,
            "height": null,
            "justify_content": null,
            "justify_items": null,
            "left": null,
            "margin": null,
            "max_height": null,
            "max_width": null,
            "min_height": null,
            "min_width": null,
            "object_fit": null,
            "object_position": null,
            "order": null,
            "overflow": null,
            "overflow_x": null,
            "overflow_y": null,
            "padding": null,
            "right": null,
            "top": null,
            "visibility": null,
            "width": null
          }
        },
        "e738ab7b57244a23ac604ad5aff9dfdf": {
          "model_module": "@jupyter-widgets/base",
          "model_module_version": "1.2.0",
          "model_name": "LayoutModel",
          "state": {
            "_model_module": "@jupyter-widgets/base",
            "_model_module_version": "1.2.0",
            "_model_name": "LayoutModel",
            "_view_count": null,
            "_view_module": "@jupyter-widgets/base",
            "_view_module_version": "1.2.0",
            "_view_name": "LayoutView",
            "align_content": null,
            "align_items": null,
            "align_self": null,
            "border": null,
            "bottom": null,
            "display": null,
            "flex": null,
            "flex_flow": null,
            "grid_area": null,
            "grid_auto_columns": null,
            "grid_auto_flow": null,
            "grid_auto_rows": null,
            "grid_column": null,
            "grid_gap": null,
            "grid_row": null,
            "grid_template_areas": null,
            "grid_template_columns": null,
            "grid_template_rows": null,
            "height": null,
            "justify_content": null,
            "justify_items": null,
            "left": null,
            "margin": null,
            "max_height": null,
            "max_width": null,
            "min_height": null,
            "min_width": null,
            "object_fit": null,
            "object_position": null,
            "order": null,
            "overflow": null,
            "overflow_x": null,
            "overflow_y": null,
            "padding": null,
            "right": null,
            "top": null,
            "visibility": null,
            "width": null
          }
        },
        "efc015fefe5449829b1d3291102f2280": {
          "model_module": "@jupyter-widgets/controls",
          "model_module_version": "1.5.0",
          "model_name": "HTMLModel",
          "state": {
            "_dom_classes": [],
            "_model_module": "@jupyter-widgets/controls",
            "_model_module_version": "1.5.0",
            "_model_name": "HTMLModel",
            "_view_count": null,
            "_view_module": "@jupyter-widgets/controls",
            "_view_module_version": "1.5.0",
            "_view_name": "HTMLView",
            "description": "",
            "description_tooltip": null,
            "layout": "IPY_MODEL_c8f4918a5d4c4024994624c4a4b8dd0d",
            "placeholder": "​",
            "style": "IPY_MODEL_0e7d0352df3f4b6095e21a97cd6b972c",
            "value": " 18/0 [00:00&lt;00:00, 55.63 examples/s]"
          }
        },
        "f3b2dbf647ad41b88188ccac892abfde": {
          "model_module": "@jupyter-widgets/controls",
          "model_module_version": "1.5.0",
          "model_name": "DescriptionStyleModel",
          "state": {
            "_model_module": "@jupyter-widgets/controls",
            "_model_module_version": "1.5.0",
            "_model_name": "DescriptionStyleModel",
            "_view_count": null,
            "_view_module": "@jupyter-widgets/base",
            "_view_module_version": "1.2.0",
            "_view_name": "StyleView",
            "description_width": ""
          }
        },
        "f48c7c35fdb24336898b371c2ea90078": {
          "model_module": "@jupyter-widgets/base",
          "model_module_version": "1.2.0",
          "model_name": "LayoutModel",
          "state": {
            "_model_module": "@jupyter-widgets/base",
            "_model_module_version": "1.2.0",
            "_model_name": "LayoutModel",
            "_view_count": null,
            "_view_module": "@jupyter-widgets/base",
            "_view_module_version": "1.2.0",
            "_view_name": "LayoutView",
            "align_content": null,
            "align_items": null,
            "align_self": null,
            "border": null,
            "bottom": null,
            "display": null,
            "flex": null,
            "flex_flow": null,
            "grid_area": null,
            "grid_auto_columns": null,
            "grid_auto_flow": null,
            "grid_auto_rows": null,
            "grid_column": null,
            "grid_gap": null,
            "grid_row": null,
            "grid_template_areas": null,
            "grid_template_columns": null,
            "grid_template_rows": null,
            "height": null,
            "justify_content": null,
            "justify_items": null,
            "left": null,
            "margin": null,
            "max_height": null,
            "max_width": null,
            "min_height": null,
            "min_width": null,
            "object_fit": null,
            "object_position": null,
            "order": null,
            "overflow": null,
            "overflow_x": null,
            "overflow_y": null,
            "padding": null,
            "right": null,
            "top": null,
            "visibility": null,
            "width": null
          }
        },
        "fa16d9e2ae134f4bb89c3ea90a5fa8ed": {
          "model_module": "@jupyter-widgets/controls",
          "model_module_version": "1.5.0",
          "model_name": "HBoxModel",
          "state": {
            "_dom_classes": [],
            "_model_module": "@jupyter-widgets/controls",
            "_model_module_version": "1.5.0",
            "_model_name": "HBoxModel",
            "_view_count": null,
            "_view_module": "@jupyter-widgets/controls",
            "_view_module_version": "1.5.0",
            "_view_name": "HBoxView",
            "box_style": "",
            "children": [
              "IPY_MODEL_05901539841a4b0f97e3a6a8b2e4836d",
              "IPY_MODEL_30f657b8971649c7bafeb289a01f66d7",
              "IPY_MODEL_0a33f270be0a4bce8b1bfd8ae00eadca"
            ],
            "layout": "IPY_MODEL_8e126692c04c40a8971b6bfb22609c30"
          }
        },
        "fb2e7a2ea8824f869e3dfe3500c8573f": {
          "model_module": "@jupyter-widgets/base",
          "model_module_version": "1.2.0",
          "model_name": "LayoutModel",
          "state": {
            "_model_module": "@jupyter-widgets/base",
            "_model_module_version": "1.2.0",
            "_model_name": "LayoutModel",
            "_view_count": null,
            "_view_module": "@jupyter-widgets/base",
            "_view_module_version": "1.2.0",
            "_view_name": "LayoutView",
            "align_content": null,
            "align_items": null,
            "align_self": null,
            "border": null,
            "bottom": null,
            "display": null,
            "flex": null,
            "flex_flow": null,
            "grid_area": null,
            "grid_auto_columns": null,
            "grid_auto_flow": null,
            "grid_auto_rows": null,
            "grid_column": null,
            "grid_gap": null,
            "grid_row": null,
            "grid_template_areas": null,
            "grid_template_columns": null,
            "grid_template_rows": null,
            "height": null,
            "justify_content": null,
            "justify_items": null,
            "left": null,
            "margin": null,
            "max_height": null,
            "max_width": null,
            "min_height": null,
            "min_width": null,
            "object_fit": null,
            "object_position": null,
            "order": null,
            "overflow": null,
            "overflow_x": null,
            "overflow_y": null,
            "padding": null,
            "right": null,
            "top": null,
            "visibility": null,
            "width": null
          }
        }
      }
    }
  },
  "nbformat": 4,
  "nbformat_minor": 0
}
